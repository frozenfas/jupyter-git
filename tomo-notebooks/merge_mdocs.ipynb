{
 "cells": [
  {
   "cell_type": "markdown",
   "id": "9d5b8c3e-87b7-45b6-8ec3-900757136754",
   "metadata": {},
   "source": [
    "# This note book helps to merge indiviual mdoc files (one per movie) to a single mdoc file (one per tilt-series)\n",
    "it also has a section to check for duplicate aquistions (at same tilt angle)\n",
    "\n",
    "- create conda env:\n",
    "- conda create -n teamtomo\n",
    "- conda activate teamtomo\n",
    "- pip install mdocfile\n",
    "- conda install  jupyter"
   ]
  },
  {
   "cell_type": "code",
   "execution_count": 1,
   "id": "e10f3836-9e70-4387-965e-b60973d98a79",
   "metadata": {},
   "outputs": [],
   "source": [
    "import mdocfile\n",
    "import pandas as pd\n",
    "import os\n",
    "from mdocfile.data_models import Mdoc, MdocGlobalData, MdocSectionData\n",
    "pd.set_option('display.max_columns', None)\n",
    "pd.set_option('display.max_rows', None)\n"
   ]
  },
  {
   "cell_type": "code",
   "execution_count": 2,
   "id": "bd3893ab-7a8a-4c45-a7ff-5144dac60c7c",
   "metadata": {},
   "outputs": [
    {
     "name": "stdout",
     "output_type": "stream",
     "text": [
      "/mnt/slinky-001/sconnell/Projects/IGBMC-0001-RsmATomo/DATA/DATA/2024-04-03_Src5-pos3\n"
     ]
    }
   ],
   "source": [
    "print(os.getcwd())"
   ]
  },
  {
   "cell_type": "markdown",
   "id": "875d595c-43dc-4f91-9989-8ad8c08e15be",
   "metadata": {},
   "source": [
    "#### Here we find the files that have the common identifier = first x character and place in a dictionary of lists (key = identifier and item = list of file name)"
   ]
  },
  {
   "cell_type": "code",
   "execution_count": 7,
   "id": "352c4119-6870-4a83-ae97-174d1bb1f2e7",
   "metadata": {},
   "outputs": [
    {
     "name": "stdout",
     "output_type": "stream",
     "text": [
      "24\n",
      "dict_keys(['Src5_pos3_ts-67', 'Src5_pos3_ts-68', 'Src5_pos3_ts-69', 'Src5_pos3_ts-70', 'Src5_pos3_ts-71', 'Src5_pos3_ts-72', 'Src5_pos3_ts-73', 'Src5_pos3_ts-74', 'Src5_pos3_ts-75', 'Src5_pos3_ts-76', 'Src5_pos3_ts-77', 'Src5_pos3_ts-78', 'Src5_pos3_ts-79', 'Src5_pos3_ts-80', 'Src5_pos3_ts-81', 'Src5_pos3_ts-82', 'Src5_pos3_ts-83', 'Src5_pos3_ts-84', 'Src5_pos3_ts-85', 'Src5_pos3_ts-86', 'Src5_pos3_ts-87', 'Src5_pos3_ts-88', 'Src5_pos3_ts-89', 'Src5_pos3_ts-90'])\n"
     ]
    }
   ],
   "source": [
    "cut = 15 # cut file name after x characters = identifier # edit here\n",
    "\n",
    "import glob\n",
    "filelist = glob.glob('Src5*.mdoc') # edit here\n",
    "\n",
    "tseries = {}  \n",
    "for x in filelist: \n",
    "    #print(x[:15])\n",
    "    key = x[:cut] # The key is the first 'cut' characters of the file name\n",
    "    group = tseries.get(key,[])\n",
    "    group.append(x)  \n",
    "    tseries[key] = group\n",
    "\n",
    "sorted_tseries = dict(sorted(tseries.items()))\n",
    "print(len(sorted_tseries.keys()))\n",
    "print(sorted_tseries.keys())"
   ]
  },
  {
   "cell_type": "markdown",
   "id": "bc9ab5d1-503e-4a51-8c45-663e00ef939c",
   "metadata": {},
   "source": [
    "#### Here we find TS (by identifier) that have duplications of acquisition angles"
   ]
  },
  {
   "cell_type": "code",
   "execution_count": 8,
   "id": "0351f274-055e-45d4-b0fd-f73dbb1bc8dc",
   "metadata": {
    "scrolled": true
   },
   "outputs": [
    {
     "name": "stdout",
     "output_type": "stream",
     "text": [
      "Src5_pos3_ts-67 71 71 56 Duplication {2.0, 34.0, 6.0, 38.0, 8.0, 10.0, -22.0, 12.0, 60.0, 14.0, 16.0, -16.0, -4.0}\n",
      "Src5_pos3_ts-68 57 57 56 Duplication {-30.0}\n",
      "Src5_pos3_ts-69 44 44 34 Duplication {-24.0, -22.0, -16.0, -14.0, 18.0, -10.0, -6.0}\n",
      "Src5_pos3_ts-70 51 51 48 Duplication {56.0}\n",
      "Src5_pos3_ts-71 60 60 60\n",
      "Src5_pos3_ts-72 60 60 60\n",
      "Src5_pos3_ts-73 23 23 22 Duplication {-4.0}\n",
      "Src5_pos3_ts-74 60 60 60\n",
      "Src5_pos3_ts-75 58 58 58\n",
      "Src5_pos3_ts-76 60 60 60\n",
      "Src5_pos3_ts-77 60 60 60\n",
      "Src5_pos3_ts-78 59 59 59\n",
      "Src5_pos3_ts-79 60 60 60\n",
      "Src5_pos3_ts-80 60 60 60\n",
      "Src5_pos3_ts-81 60 60 60\n",
      "Src5_pos3_ts-82 60 60 60\n",
      "Src5_pos3_ts-83 60 60 60\n",
      "Src5_pos3_ts-84 57 57 57\n",
      "Src5_pos3_ts-85 61 61 60 Duplication {32.0}\n",
      "Src5_pos3_ts-86 60 60 60\n",
      "Src5_pos3_ts-87 60 60 60\n",
      "Src5_pos3_ts-88 58 58 58\n",
      "Src5_pos3_ts-89 53 53 53\n",
      "Src5_pos3_ts-90 63 63 59 Duplication {64.0, 60.0}\n"
     ]
    }
   ],
   "source": [
    "for tsname, flist in sorted_tseries.items():\n",
    "    # edit splice so you cut from beginning and end to get the angle\n",
    "    t=[float(w[22:-24]) for w in flist] # edit here\n",
    "    if len(t) != len(set(t)):\n",
    "        dup = {x for x in t if t.count(x) > 1} # this is set\n",
    "        print(tsname, len(flist), len(t), len(set(t)), 'Duplication', dup)\n",
    "    else:\n",
    "        print(tsname, len(flist), len(t), len(set(t)))"
   ]
  },
  {
   "cell_type": "markdown",
   "id": "52f03ac6-120f-45bf-a569-0d2d6d9efe7c",
   "metadata": {},
   "source": [
    "#### Here we use mdocfile module to interate over the indiviudal mdocs, extract the section data, update the Zvalue with the index (order of aquistion) and write out a merged mdoc file."
   ]
  },
  {
   "cell_type": "code",
   "execution_count": 9,
   "id": "22c66c2c-0213-47b5-a454-080cb8e4d280",
   "metadata": {},
   "outputs": [
    {
     "name": "stdout",
     "output_type": "stream",
     "text": [
      "Writing merged mdoc file:    ts-67.mdoc\n",
      "Writing merged mdoc file:    ts-68.mdoc\n",
      "Writing merged mdoc file:    ts-69.mdoc\n",
      "Writing merged mdoc file:    ts-70.mdoc\n",
      "Writing merged mdoc file:    ts-71.mdoc\n",
      "Writing merged mdoc file:    ts-72.mdoc\n",
      "Writing merged mdoc file:    ts-73.mdoc\n",
      "Writing merged mdoc file:    ts-74.mdoc\n",
      "Writing merged mdoc file:    ts-75.mdoc\n",
      "Writing merged mdoc file:    ts-76.mdoc\n",
      "Writing merged mdoc file:    ts-77.mdoc\n",
      "Writing merged mdoc file:    ts-78.mdoc\n",
      "Writing merged mdoc file:    ts-79.mdoc\n",
      "Writing merged mdoc file:    ts-80.mdoc\n",
      "Writing merged mdoc file:    ts-81.mdoc\n",
      "Writing merged mdoc file:    ts-82.mdoc\n",
      "Writing merged mdoc file:    ts-83.mdoc\n",
      "Writing merged mdoc file:    ts-84.mdoc\n",
      "Writing merged mdoc file:    ts-85.mdoc\n",
      "Writing merged mdoc file:    ts-86.mdoc\n",
      "Writing merged mdoc file:    ts-87.mdoc\n",
      "Writing merged mdoc file:    ts-88.mdoc\n",
      "Writing merged mdoc file:    ts-89.mdoc\n",
      "Writing merged mdoc file:    ts-90.mdoc\n"
     ]
    }
   ],
   "source": [
    "for tsname, flist in sorted_tseries.items():\n",
    "    mdoc_section_data = [] # initialize a empty list for section_data\n",
    "    #print(tsname, len(flist))\n",
    "    #sort this list based on the index in the file name\n",
    "    files=sorted(flist, key = lambda x: x[16:21]) # edit here\n",
    "    #construct output file name\n",
    "    fout = f'{files[0][10:15]}.mdoc'\n",
    "    #print(fout)\n",
    "    # read in first file to construct global data\n",
    "    mdoc = Mdoc.from_file(files[0])\n",
    "    global_data = mdoc.global_data \n",
    "\n",
    "    # construct section data models and update FrameSet value with index\n",
    "    for f in files:\n",
    "        section_data = Mdoc.from_file(f).section_data[0] # here input mdocs only have one section\n",
    "        #print(section_data.FrameSet)\n",
    "        section_data.ZValue=int(f[16:21]) # these characters that mark the index in the file name \n",
    "        mdoc_section_data.append(section_data)\n",
    "        #print(section_data.FrameSet)\n",
    "\n",
    "    # construct mdoc model\n",
    "    mdoc = Mdoc(\n",
    "        titles=[\n",
    "        '[T = SerialEM: Krios G4 9930510 at IGBMC   ]',\n",
    "        ],\n",
    "        global_data=global_data,\n",
    "        section_data=mdoc_section_data\n",
    "    )\n",
    "\n",
    "    # write out the file\n",
    "    print(f'Writing merged mdoc file:    {fout}')\n",
    "    with open(fout, mode='w+') as file:\n",
    "        file.write(mdoc.to_string())"
   ]
  },
  {
   "cell_type": "code",
   "execution_count": null,
   "id": "a6e90287-a1ba-423a-977f-d3ac0d5187aa",
   "metadata": {},
   "outputs": [],
   "source": []
  }
 ],
 "metadata": {
  "kernelspec": {
   "display_name": "Python 3 (ipykernel)",
   "language": "python",
   "name": "python3"
  },
  "language_info": {
   "codemirror_mode": {
    "name": "ipython",
    "version": 3
   },
   "file_extension": ".py",
   "mimetype": "text/x-python",
   "name": "python",
   "nbconvert_exporter": "python",
   "pygments_lexer": "ipython3",
   "version": "3.12.3"
  }
 },
 "nbformat": 4,
 "nbformat_minor": 5
}
