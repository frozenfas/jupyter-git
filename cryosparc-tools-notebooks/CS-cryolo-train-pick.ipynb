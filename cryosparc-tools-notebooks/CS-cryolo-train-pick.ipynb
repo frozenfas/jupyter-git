{
 "cells": [
  {
   "cell_type": "markdown",
   "id": "b0a857dd-8264-45d0-bb35-0bd3391b93d2",
   "metadata": {},
   "source": [
    "# Run cryolo train and pick inside CryoSPARC (with CryoSPARC-tools)\n",
    "- based on https://tools.cryosparc.com/examples/cryolo.html\n",
    "- just modified to give value for power and ncc_score (see https://discuss.cryosparc.com/t/cryolo-particle-picking-problem-unable-to-see-power-histogram-and-picked-particles-during-inspect-picks/10838/2?u=frozenfas)"
   ]
  },
  {
   "cell_type": "code",
   "execution_count": null,
   "id": "d33fc45d-1837-4ba7-83a4-9994df8b0773",
   "metadata": {},
   "outputs": [],
   "source": [
    "# **************************************************************************\n",
    "# *\n",
    "# * Authors:    Sean Connell (sean.connell@gmail.com)\n",
    "# *\n",
    "# * Structural Biology of Cellular Machines\n",
    "# *\n",
    "# **************************************************************************"
   ]
  },
  {
   "cell_type": "code",
   "execution_count": null,
   "id": "c153fcf3",
   "metadata": {},
   "outputs": [],
   "source": [
    "# CS instance information\n",
    "cshost = \"XXX\"\n",
    "port = XXX\n",
    "project = \"P13\"\n",
    "cslicense = \"XXX\" \n",
    "email = \"XXX\"\n",
    "pword = \"XXX\"\n",
    "\n",
    "# training data\n",
    "pxl_sz_A = 0.723\n",
    "particle_blob_size = 480\n",
    "\n",
    "train_mic_job = \"J13\"\n",
    "train_mic_name = \"split_0\"\n",
    "train_particle_job = \"J14\"\n",
    "train_particle_name = \"particles\"\n",
    "\n",
    "# picking data\n",
    "pick_small_mic_job = \"J17\"\n",
    "pick_small_mic_name = \"split_0\"\n",
    "pick_large_mic_job = \"J17\"\n",
    "pick_large_mic_name = \"remainder\"\n",
    "\n",
    "# cryolo\n",
    "cryolo_exe = \"XXX\"\n",
    "cryolo_train_exe = \"XXX\"\n",
    "cryolo_predict_exe = \"XXX\"\n",
    "\n",
    "confidence = 0.1\n",
    "train = True\n",
    "fine_tune = True\n",
    "\n",
    "general_model = \"XXX\"\n",
    "\n",
    "filter_tmp = \"XXX\"\n"
   ]
  },
  {
   "cell_type": "code",
   "execution_count": null,
   "id": "b4f0ad1b",
   "metadata": {},
   "outputs": [],
   "source": [
    "from cryosparc.tools import CryoSPARC\n",
    "\n",
    "cs = CryoSPARC(host=cshost, base_port=port, license=cslicense, email=email, password=pword)\n",
    "assert cs.test_connection()\n",
    "\n",
    "\n"
   ]
  },
  {
   "cell_type": "code",
   "execution_count": null,
   "id": "bc8296c8",
   "metadata": {},
   "outputs": [],
   "source": [
    "project = cs.find_project(project)\n",
    "\n",
    "job = project.create_external_job(\"W3\", title=\"crYOLO Picks\")\n",
    "job.connect(\"train_micrographs\", train_mic_job, train_mic_name, slots=[\"micrograph_blob\"])\n",
    "job.connect(\"train_particles\", train_particle_job, train_particle_name, slots=[\"location\"])\n",
    "job.connect(\"all_micrographs\", pick_small_mic_job, pick_small_mic_name, slots=[\"micrograph_blob\"])\n",
    "#job.connect(\"all_micrographs\", pick_large_mic_job, pick_large_mic_name, slots=[\"micrograph_blob\"])\n",
    "job.add_output(\"particle\", \"predicted_particles\", slots=[\"location\", \"pick_stats\"])"
   ]
  },
  {
   "cell_type": "code",
   "execution_count": null,
   "id": "32d95e65",
   "metadata": {},
   "outputs": [],
   "source": [
    "job.start()\n",
    "#job.queue(\"slinky\")"
   ]
  },
  {
   "cell_type": "code",
   "execution_count": null,
   "id": "6c894a79",
   "metadata": {},
   "outputs": [],
   "source": [
    "job.status"
   ]
  },
  {
   "cell_type": "code",
   "execution_count": null,
   "id": "ea1a90bd",
   "metadata": {},
   "outputs": [],
   "source": [
    "job.mkdir(\"full_data\")\n",
    "job.mkdir(\"train_image\")\n",
    "job.mkdir(\"train_annot\")"
   ]
  },
  {
   "cell_type": "code",
   "execution_count": null,
   "id": "35bae8fb",
   "metadata": {},
   "outputs": [],
   "source": [
    "all_micrographs = job.load_input(\"all_micrographs\", [\"micrograph_blob\"])\n",
    "train_micrographs = job.load_input(\"train_micrographs\", [\"micrograph_blob\"])\n",
    "\n",
    "for mic in all_micrographs.rows():\n",
    "    source = mic[\"micrograph_blob/path\"]\n",
    "    target = job.uid + \"/full_data/\" + source.split(\"/\")[-1]\n",
    "    project.symlink(source, target)\n",
    "\n",
    "for mic in train_micrographs.rows():\n",
    "    source = mic[\"micrograph_blob/path\"]\n",
    "    target = job.uid + \"/train_image/\" + source.split(\"/\")[-1]\n",
    "    project.symlink(source, target)"
   ]
  },
  {
   "cell_type": "code",
   "execution_count": null,
   "id": "4c09eb3e",
   "metadata": {},
   "outputs": [],
   "source": [
    "from io import StringIO\n",
    "import numpy as np\n",
    "from numpy.core import records\n",
    "from cryosparc import star\n",
    "\n",
    "job.mkdir(\"train_annot/STAR\")\n",
    "train_particles = job.load_input(\"train_particles\", [\"location\"])\n",
    "\n",
    "for micrograph_path, particles in train_particles.split_by(\"location/micrograph_path\").items():\n",
    "    micrograph_name = micrograph_path.split(\"/\")[-1]\n",
    "    star_file_name = micrograph_name.rsplit(\".\", 1)[0] + \".star\"\n",
    "\n",
    "    mic_w = particles[\"location/micrograph_shape\"][:, 1]\n",
    "    mic_h = particles[\"location/micrograph_shape\"][:, 0]\n",
    "    center_x = particles[\"location/center_x_frac\"]\n",
    "    center_y = particles[\"location/center_y_frac\"]\n",
    "    location_x = center_x * mic_w\n",
    "    location_y = center_y * mic_h\n",
    "\n",
    "    outfile = StringIO()\n",
    "    star.write(\n",
    "        outfile,\n",
    "        records.fromarrays([location_x, location_y], names=[\"rlnCoordinateX\", \"rlnCoordinateY\"]),\n",
    "    )\n",
    "    outfile.seek(0)\n",
    "    job.upload(\"train_annot/STAR/\" + star_file_name, outfile)"
   ]
  },
  {
   "cell_type": "code",
   "execution_count": null,
   "id": "9262647c",
   "metadata": {},
   "outputs": [],
   "source": [
    "%matplotlib inline\n",
    "\n",
    "\n",
    "from cryosparc import mrc\n",
    "from cryosparc.tools import downsample, lowpass2\n",
    "import matplotlib.pyplot as plt\n",
    "\n",
    "header, mic = project.download_mrc(micrograph_path)\n",
    "binned = downsample(mic, factor=3)\n",
    "lowpassed = lowpass2(binned, psize_A=pxl_sz_A, cutoff_resolution_A=20, order=0.7)\n",
    "height, width = lowpassed.shape\n",
    "vmin = np.percentile(lowpassed, 1)\n",
    "vmax = np.percentile(lowpassed, 99)\n",
    "\n",
    "fig, ax = plt.subplots(figsize=(7.5, 8), dpi=144)\n",
    "ax.axis(\"off\")\n",
    "ax.imshow(lowpassed, cmap=\"gray\", vmin=vmin, vmax=vmax, origin=\"lower\")\n",
    "ax.scatter(center_x * width, center_y * height, c=\"yellow\", marker=\"+\")\n",
    "\n",
    "fig.tight_layout()"
   ]
  },
  {
   "cell_type": "code",
   "execution_count": null,
   "id": "773c0ad6",
   "metadata": {
    "scrolled": true
   },
   "outputs": [],
   "source": [
    "#cmd =  f\"{cryolo_exe } config config_cryolo.json {particle_blob_size} --train_image_folder train_image --train_annot_folder train_annot --pretrained_weights {general_model} --filtered_output {filter_tmp}\".split(\" \")\n",
    "cmd =  f\"{cryolo_exe } config config_cryolo.json {particle_blob_size} --filter LOWPASS --low_pass_cutoff 0.1 --filtered_output {filter_tmp}\".split(\" \")\n",
    "\n",
    "job.subprocess(cmd ,cwd=job.dir())"
   ]
  },
  {
   "cell_type": "code",
   "execution_count": null,
   "id": "a430e54d",
   "metadata": {},
   "outputs": [],
   "source": [
    "cmd = f\"{cryolo_predict_exe} -c config_cryolo.json -w {general_model} -i full_data -g 0 -o boxfiles -t {confidence} --otf\".split(\" \")\n",
    "\n",
    "#cmd=f\"{cryolo_predict_exe} -c config_cryolo.json -w cryolo_model.h5 -i full_data -g 0 -o boxfiles -t {confidence} --otf\".split(\" \")\n",
    "\n",
    "job.mkdir(\"boxfiles\")\n",
    "\n",
    "job.subprocess(\n",
    "    cmd,\n",
    "    cwd=job.dir(),\n",
    "    mute=True,\n",
    "    checkpoint=True,\n",
    ")"
   ]
  },
  {
   "cell_type": "code",
   "execution_count": null,
   "id": "8f71e20c",
   "metadata": {},
   "outputs": [],
   "source": [
    "output_star_folder = \"STAR\"\n",
    "\n",
    "all_predicted = []\n",
    "for mic in all_micrographs.rows():\n",
    "    micrograph_path = mic[\"micrograph_blob/path\"]\n",
    "    micrograph_name = micrograph_path.split(\"/\")[-1]\n",
    "    #print(micrograph_name )\n",
    "    height, width = mic[\"micrograph_blob/shape\"]\n",
    "\n",
    "    starfile_path = \"boxfiles/CRYOSPARC/cryosparc.star\" \n",
    "    locations = star.read(job.dir() / starfile_path)[\"\"]\n",
    "    center_x = locations[locations['rlnMicrographName'] == micrograph_name]['rlnCoordinateX'] / width\n",
    "    center_y = locations[locations['rlnMicrographName'] == micrograph_name]['rlnCoordinateY'] / height\n",
    "    fig_merit = locations[locations['rlnMicrographName'] == micrograph_name]['rlnAutopickFigureOfMerit']\n",
    "    \n",
    "    predicted = job.alloc_output(\"predicted_particles\", len(locations[locations['rlnMicrographName'] == micrograph_name]))\n",
    "    predicted[\"location/micrograph_uid\"] = mic[\"uid\"]\n",
    "    predicted[\"location/micrograph_path\"] = mic[\"micrograph_blob/path\"]\n",
    "    predicted[\"location/micrograph_shape\"] = mic[\"micrograph_blob/shape\"]\n",
    "    predicted[\"location/center_x_frac\"] = center_x\n",
    "    predicted[\"location/center_y_frac\"] = center_y\n",
    "    predicted[\"pick_stats/ncc_score\"] = fig_merit\n",
    "    predicted[\"pick_stats/power\"] = fig_merit\n",
    "    \n",
    "\n",
    "    all_predicted.append(predicted)"
   ]
  },
  {
   "cell_type": "code",
   "execution_count": null,
   "id": "b22024b7",
   "metadata": {},
   "outputs": [],
   "source": [
    "header, mic = project.download_mrc(micrograph_path)\n",
    "binned = downsample(mic, factor=3)\n",
    "lowpassed = lowpass2(binned, psize_A=pxl_sz_A, cutoff_resolution_A=20, order=0.7)\n",
    "height, width = lowpassed.shape\n",
    "vmin = np.percentile(lowpassed, 1)\n",
    "vmax = np.percentile(lowpassed, 99)\n",
    "\n",
    "fig, ax = plt.subplots(figsize=(7.5, 8), dpi=144)\n",
    "ax.axis(\"off\")\n",
    "ax.imshow(lowpassed, cmap=\"gray\", vmin=vmin, vmax=vmax, origin=\"lower\")\n",
    "ax.scatter(center_x * width, center_y * height, c=\"cyan\", marker=\"+\")\n",
    "\n",
    "fig.tight_layout()"
   ]
  },
  {
   "cell_type": "code",
   "execution_count": null,
   "id": "65ac8b13",
   "metadata": {},
   "outputs": [],
   "source": [
    "from cryosparc.dataset import Dataset\n",
    "\n",
    "job.save_output(\"predicted_particles\", Dataset.append(*all_predicted))\n",
    "job.stop()"
   ]
  },
  {
   "cell_type": "code",
   "execution_count": null,
   "id": "420a05a3",
   "metadata": {},
   "outputs": [],
   "source": []
  }
 ],
 "metadata": {
  "kernelspec": {
   "display_name": "Python 3 (ipykernel)",
   "language": "python",
   "name": "python3"
  },
  "language_info": {
   "codemirror_mode": {
    "name": "ipython",
    "version": 3
   },
   "file_extension": ".py",
   "mimetype": "text/x-python",
   "name": "python",
   "nbconvert_exporter": "python",
   "pygments_lexer": "ipython3",
   "version": "3.8.17"
  }
 },
 "nbformat": 4,
 "nbformat_minor": 5
}
